{
 "cells": [
  {
   "cell_type": "markdown",
   "id": "01c26d9a-1a20-48bd-8541-46f298c2a201",
   "metadata": {},
   "source": [
    "# Imports "
   ]
  },
  {
   "cell_type": "code",
   "execution_count": 1,
   "id": "d6787686-64d5-4d6a-bf72-63c15b907dc5",
   "metadata": {},
   "outputs": [],
   "source": [
    "import sys\n",
    "sys.path.append('/home/spanwar/Documents/collage/projects/chatbot_v2/utils')"
   ]
  },
  {
   "cell_type": "code",
   "execution_count": null,
   "id": "2009c0da-377e-492d-a05b-150efe35aaa9",
   "metadata": {},
   "outputs": [],
   "source": [
    "import json\n",
    "import QnA, shedule\n",
    "from query_manager import query_manager"
   ]
  },
  {
   "cell_type": "markdown",
   "id": "7732b062-00fc-4932-8382-af360e24f593",
   "metadata": {},
   "source": [
    "# Create bot"
   ]
  },
  {
   "cell_type": "code",
   "execution_count": 2,
   "id": "5ec135e2-4d9d-4837-b8c9-64ac756be8e4",
   "metadata": {},
   "outputs": [],
   "source": [
    "botname = 'test'"
   ]
  },
  {
   "cell_type": "markdown",
   "id": "d3e297ba-c978-4478-9df0-0546f5207a7b",
   "metadata": {},
   "source": [
    "## QnA"
   ]
  },
  {
   "cell_type": "code",
   "execution_count": 3,
   "id": "c8f0bbc4-bfda-43d4-a641-5de97b89c25d",
   "metadata": {},
   "outputs": [],
   "source": [
    "data_path = 'data/leanStartupData'"
   ]
  },
  {
   "cell_type": "code",
   "execution_count": 4,
   "id": "37d87669-5044-4f01-8d0c-44b245af862b",
   "metadata": {},
   "outputs": [
    {
     "name": "stdout",
     "output_type": "stream",
     "text": [
      "Reading the file: data/leanStartupData/LDBD23intro.pdf\n",
      "Reading the file: data/leanStartupData/LeanStartup.pdf\n",
      "Reading the file: data/leanStartupData/Platform.pdf\n",
      "Reading the file: data/leanStartupData/LearningLog.rtf\n"
     ]
    }
   ],
   "source": [
    "QnA.initialize_qna(data_path, botname)"
   ]
  },
  {
   "cell_type": "markdown",
   "id": "56d3dbfe-8262-4cb7-ba8e-9e4db08432af",
   "metadata": {},
   "source": [
    "## Shedule"
   ]
  },
  {
   "cell_type": "code",
   "execution_count": 5,
   "id": "4ddbc15d-3687-408f-86e1-9106c93d954e",
   "metadata": {},
   "outputs": [],
   "source": [
    "day_to_time_range = {\n",
    "            \"monday\": \"12:00 - 14:00\",\n",
    "            \"tuesday\": \"14:00 - 16:00\",\n",
    "            \"wednesday\": \"16:00 - 18:00\",\n",
    "            \"thursday\": \"18:00 - 20:00\",\n",
    "            \"friday\": \"20:00 - 22:00\",\n",
    "            \"saturday\": \"10:00 - 12:00\",\n",
    "            \"sunday\": \"10:00 - 12:00\"\n",
    "        }"
   ]
  },
  {
   "cell_type": "code",
   "execution_count": 6,
   "id": "c9e3d860-88af-4095-9b11-22e84a43081e",
   "metadata": {},
   "outputs": [],
   "source": [
    "shedule.save_shedule(day_to_time_range, botname)"
   ]
  },
  {
   "cell_type": "markdown",
   "id": "be20178f-53c1-41a9-b492-62b8392021aa",
   "metadata": {},
   "source": [
    "# Query"
   ]
  },
  {
   "cell_type": "code",
   "execution_count": 7,
   "id": "3f4b175a-8f14-441e-b275-7fb10fc76cc5",
   "metadata": {},
   "outputs": [],
   "source": [
    "query = 'what is lean to startup and also give the today shedule'"
   ]
  },
  {
   "cell_type": "code",
   "execution_count": 8,
   "id": "17d53302-7bd4-4e1d-8fc4-65279b269cb0",
   "metadata": {},
   "outputs": [],
   "source": [
    "def response_to_query(query):\n",
    "    cmd = json.loads(query_manager(query))\n",
    "    print(cmd)\n",
    "    for key in cmd:\n",
    "        print('###'*20)\n",
    "        if key=='qna':\n",
    "            response = QnA.response(cmd['qna'], botname)\n",
    "            print(response)\n",
    "        if key=='shedule':\n",
    "            response = shedule.response(cmd['shedule'], botname)\n",
    "            print(response)"
   ]
  },
  {
   "cell_type": "code",
   "execution_count": 9,
   "id": "3092a32d-ff9d-4843-8377-5620e6211d0e",
   "metadata": {},
   "outputs": [
    {
     "name": "stdout",
     "output_type": "stream",
     "text": [
      "{'qna': 'what is lean to startup', 'shedule': 'also give the today shedule'}\n",
      "############################################################\n",
      "Lean Startup is a method for developing new products and services with a focus on customer feedback and iterative development. It emphasizes building a minimum viable product (MVP), getting it into the hands of customers, and using feedback to improve the product over time. Lean Startup is based on the idea that it is better to learn from mistakes and customer feedback than to spend a lot of time and money on developing a product that customers don't want.\n",
      "############################################################\n",
      "18:00 - 20:00\n",
      "CPU times: user 258 ms, sys: 215 µs, total: 259 ms\n",
      "Wall time: 6.33 s\n"
     ]
    }
   ],
   "source": [
    "%%time\n",
    "response_to_query(query)"
   ]
  },
  {
   "cell_type": "code",
   "execution_count": null,
   "id": "d5f9f342-cf50-49fe-acb2-83204c504b49",
   "metadata": {},
   "outputs": [],
   "source": []
  }
 ],
 "metadata": {
  "kernelspec": {
   "display_name": "gemini_env_v2",
   "language": "python",
   "name": "gemini_env_v2"
  },
  "language_info": {
   "codemirror_mode": {
    "name": "ipython",
    "version": 3
   },
   "file_extension": ".py",
   "mimetype": "text/x-python",
   "name": "python",
   "nbconvert_exporter": "python",
   "pygments_lexer": "ipython3",
   "version": "3.12.2"
  }
 },
 "nbformat": 4,
 "nbformat_minor": 5
}
