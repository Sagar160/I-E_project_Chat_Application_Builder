{
 "cells": [
  {
   "cell_type": "markdown",
   "id": "1163747a",
   "metadata": {},
   "source": [
    "# Imports"
   ]
  },
  {
   "cell_type": "code",
   "execution_count": 19,
   "id": "8f47aff9-00ea-4834-9a82-13d4707314c4",
   "metadata": {
    "scrolled": true
   },
   "outputs": [],
   "source": [
    "# !pip install --upgrade google-cloud-aiplatform\n",
    "import os\n",
    "import json\n",
    "import time\n",
    "from datetime import datetime"
   ]
  },
  {
   "cell_type": "code",
   "execution_count": null,
   "id": "acb6aabf",
   "metadata": {},
   "outputs": [],
   "source": [
    "# import os\n",
    "# import json\n",
    "# import time\n",
    "# from datetime import datetime\n",
    "# import openai\n",
    "# import pandas as pd\n",
    "# import numpy as np"
   ]
  },
  {
   "cell_type": "code",
   "execution_count": 3,
   "id": "68cacd87",
   "metadata": {},
   "outputs": [],
   "source": [
    "import vertexai\n",
    "from vertexai.preview.generative_models import GenerativeModel, ChatSession, Part\n",
    "from vertexai.language_models import TextEmbeddingModel"
   ]
  },
  {
   "cell_type": "code",
   "execution_count": 4,
   "id": "5b2186ee",
   "metadata": {},
   "outputs": [],
   "source": [
    "os.environ['GOOGLE_APPLICATION_CREDENTIALS'] = '/home/spanwar/Documents/collage/projects/chatbot_v2/vertex_key/oval-smile-417517-43cf867c95fd.json'"
   ]
  },
  {
   "cell_type": "code",
   "execution_count": 5,
   "id": "02f44fba",
   "metadata": {},
   "outputs": [],
   "source": [
    "# with open(os.environ['GOOGLE_APPLICATION_CREDENTIALS'], 'r') as f:\n",
    "#     print(f.read())"
   ]
  },
  {
   "cell_type": "code",
   "execution_count": 6,
   "id": "b318a178",
   "metadata": {},
   "outputs": [],
   "source": [
    "# TODO(developer): Update and un-comment below lines\n",
    "project_id = \"oval-smile-417517\"\n",
    "location   = \"us-central1\"\n",
    "vertexai.init(project=project_id, location=location)\n",
    "\n",
    "model = GenerativeModel(\"gemini-pro\")"
   ]
  },
  {
   "cell_type": "code",
   "execution_count": 4,
   "id": "0efb4a2e",
   "metadata": {},
   "outputs": [],
   "source": [
    "def get_chat_response(prompt: str):\n",
    "    response = model.generate_content(prompt)\n",
    "    return response\n",
    "\n",
    "# prompt = \"hi\"\n",
    "# response = get_chat_response(prompt)"
   ]
  },
  {
   "cell_type": "code",
   "execution_count": 5,
   "id": "78be14ab",
   "metadata": {},
   "outputs": [],
   "source": [
    "def response_to_text(response):\n",
    "        return str(response.candidates[0].content.parts[0]).split('text: \"')[-1].split('\"\\n')[0]\n",
    "\n",
    "# response_to_text(response)"
   ]
  },
  {
   "cell_type": "code",
   "execution_count": 3,
   "id": "fc4445c8",
   "metadata": {},
   "outputs": [
    {
     "ename": "NameError",
     "evalue": "name 'TextEmbeddingModel' is not defined",
     "output_type": "error",
     "traceback": [
      "\u001b[0;31m---------------------------------------------------------------------------\u001b[0m",
      "\u001b[0;31mNameError\u001b[0m                                 Traceback (most recent call last)",
      "Cell \u001b[0;32mIn[3], line 1\u001b[0m\n\u001b[0;32m----> 1\u001b[0m model_text_emb \u001b[38;5;241m=\u001b[39m \u001b[43mTextEmbeddingModel\u001b[49m\u001b[38;5;241m.\u001b[39mfrom_pretrained(\u001b[38;5;124m\"\u001b[39m\u001b[38;5;124mtextembedding-gecko@001\u001b[39m\u001b[38;5;124m\"\u001b[39m)\n",
      "\u001b[0;31mNameError\u001b[0m: name 'TextEmbeddingModel' is not defined"
     ]
    }
   ],
   "source": [
    "model_text_emb = TextEmbeddingModel.from_pretrained(\"textembedding-gecko@001\")"
   ]
  },
  {
   "cell_type": "code",
   "execution_count": 10,
   "id": "c0e4fcd2",
   "metadata": {},
   "outputs": [],
   "source": [
    "def text_embedding(text) -> list:\n",
    "    \"\"\"Text embedding with a Large Language Model.\"\"\"\n",
    "    embeddings = model_text_emb.get_embeddings([text])\n",
    "    for embedding in embeddings:\n",
    "        vector = embedding.values\n",
    "        print(f\"Length of Embedding Vector: {len(vector)}\")\n",
    "    return vector"
   ]
  },
  {
   "cell_type": "code",
   "execution_count": 11,
   "id": "bea36dc6",
   "metadata": {},
   "outputs": [],
   "source": [
    "# text_embedding('hi')"
   ]
  },
  {
   "cell_type": "code",
   "execution_count": 12,
   "id": "341f5a9e",
   "metadata": {},
   "outputs": [
    {
     "data": {
      "text/plain": [
       "candidates {\n",
       "  content {\n",
       "    role: \"model\"\n",
       "    parts {\n",
       "      text: \"\\\"from:toran, money:40 euro, to:yarrko\\\"\"\n",
       "    }\n",
       "  }\n",
       "  finish_reason: STOP\n",
       "  safety_ratings {\n",
       "    category: HARM_CATEGORY_HATE_SPEECH\n",
       "    probability: NEGLIGIBLE\n",
       "    probability_score: 0.139045298\n",
       "    severity: HARM_SEVERITY_NEGLIGIBLE\n",
       "    severity_score: 0.1603975\n",
       "  }\n",
       "  safety_ratings {\n",
       "    category: HARM_CATEGORY_DANGEROUS_CONTENT\n",
       "    probability: NEGLIGIBLE\n",
       "    probability_score: 0.301876307\n",
       "    severity: HARM_SEVERITY_LOW\n",
       "    severity_score: 0.306527048\n",
       "  }\n",
       "  safety_ratings {\n",
       "    category: HARM_CATEGORY_HARASSMENT\n",
       "    probability: NEGLIGIBLE\n",
       "    probability_score: 0.196055457\n",
       "    severity: HARM_SEVERITY_NEGLIGIBLE\n",
       "    severity_score: 0.14903529\n",
       "  }\n",
       "  safety_ratings {\n",
       "    category: HARM_CATEGORY_SEXUALLY_EXPLICIT\n",
       "    probability: NEGLIGIBLE\n",
       "    probability_score: 0.199152201\n",
       "    severity: HARM_SEVERITY_NEGLIGIBLE\n",
       "    severity_score: 0.137880355\n",
       "  }\n",
       "}\n",
       "usage_metadata {\n",
       "  prompt_token_count: 55\n",
       "  candidates_token_count: 18\n",
       "  total_token_count: 73\n",
       "}"
      ]
     },
     "execution_count": 12,
     "metadata": {},
     "output_type": "execute_result"
    }
   ],
   "source": [
    "\n",
    "\n",
    "messages = [{'role':'user',\n",
    "                 'parts':[\"sagar paid 20 euro to toran\"]}]\n",
    "\n",
    "messages.append({'role':'model',\n",
    "                 'parts':[\"from:toran, money:20 euro, to:sagar\"]})\n",
    "messages.append({'role': 'user',\n",
    "               'parts': [\"toran have give me (yarrko) 40 euro.\"]})\n",
    "\n",
    "messages = '''\n",
    "exampl 1: sagar paid 20 euro to toran\n",
    "response: \"from:toran, money:20 euro, to:sagar\"\n",
    "################\n",
    "toran have give me (yarrko) 40 euro.\n",
    "'''\n",
    "\n",
    "\n",
    "\n",
    "get_chat_response(messages)\n",
    "               "
   ]
  },
  {
   "cell_type": "markdown",
   "id": "5c664d8e-4eb6-46f6-9e6b-5da3bd0c44d4",
   "metadata": {},
   "source": [
    "# Splitwise"
   ]
  },
  {
   "cell_type": "code",
   "execution_count": 6,
   "id": "ac342f87-93c0-45df-af60-e123ec6ee089",
   "metadata": {},
   "outputs": [],
   "source": [
    "def read_json(file_path):\n",
    "    \"\"\"\n",
    "    Read JSON data from a file.\n",
    "\n",
    "    Parameters:\n",
    "        file_path (str): The path to the JSON file.\n",
    "\n",
    "    Returns:\n",
    "        dict: The JSON data as a dictionary.\n",
    "    \"\"\"\n",
    "    with open(file_path, 'r') as file:\n",
    "        data = json.load(file)\n",
    "    return data\n",
    "\n",
    "def write_json(data, file_path):\n",
    "    \"\"\"\n",
    "    Write JSON data to a file.\n",
    "\n",
    "    Parameters:\n",
    "        data (dict): The JSON data to write.\n",
    "        file_path (str): The path to write the JSON file.\n",
    "    \"\"\"\n",
    "    with open(file_path, 'w') as file:\n",
    "        json.dump(data, file, indent=4)"
   ]
  },
  {
   "cell_type": "code",
   "execution_count": 7,
   "id": "8dbb3f45-790d-4c26-9a7e-c53f4490e5f5",
   "metadata": {},
   "outputs": [],
   "source": [
    "def get_time():\n",
    "    # Getting the current date and time\n",
    "    dt = datetime.now()\n",
    "    ts = datetime.timestamp(dt)\n",
    "    return ts"
   ]
  },
  {
   "cell_type": "code",
   "execution_count": 21,
   "id": "4cd5487b-75d4-4cf1-864a-c40b74a7a32c",
   "metadata": {},
   "outputs": [],
   "source": [
    "def calculate_net_amount(expense_name='None'):\n",
    "    data              =  read_json('/home/spanwar/Documents/collage/projects/chatbot_v2/data/splitwise/data.json')\n",
    "    expense_name_dict = read_json('/home/spanwar/Documents/collage/projects/chatbot_v2/data/splitwise/expense_id.json')\n",
    "\n",
    "    # try:\n",
    "    if expense_name=='None':\n",
    "        expense_name = max(expense_name_dict, key=expense_name_dict.get)\n",
    "        key          = expense_name_dict[expense_name]   \n",
    "        print(f'expense name not specified, so calculating last expenses\\nexpense name: {expense_name}')\n",
    "    elif expense_name=='last':\n",
    "        expense_name = max(expense_name_dict, key=expense_name_dict.get)\n",
    "        key          = expense_name_dict[expense_name]   \n",
    "        print(f'last expense name: {expense_name}')\n",
    "    else:\n",
    "        key = expense_name_dict[expense_name]\n",
    "        print(f'expense name: {expense_name}')\n",
    "    # except:\n",
    "    #     print('not found')\n",
    "    #     return\n",
    "\n",
    "    transactions = data[str(key)]\n",
    "    net_amounts = {}\n",
    "    \n",
    "    # Iterate through each transaction\n",
    "    for transaction in transactions:\n",
    "        giver, receiver, amount = transaction\n",
    "        amount = int(amount)\n",
    "        \n",
    "        # Update net amount for the giver and receiver\n",
    "        net_amounts[giver] = net_amounts.get(giver, 0) - amount\n",
    "        net_amounts[receiver] = net_amounts.get(receiver, 0) + amount\n",
    "    \n",
    "    print(f'Net Balance of the expenses\\n{net_amounts}')\n",
    "\n",
    "    return f'Net Balance of the expenses\\n{str(net_amounts)}'"
   ]
  },
  {
   "cell_type": "code",
   "execution_count": 16,
   "id": "fea31eb8-9a4a-46d6-8330-b05b260bf3ff",
   "metadata": {},
   "outputs": [],
   "source": [
    "def splitwise(_from, _to, money, expense_name='None'):\n",
    "    try:\n",
    "        data              =  read_json('/home/spanwar/Documents/collage/projects/chatbot_v2/data/splitwise/data.json')\n",
    "        expense_name_dict = read_json('/home/spanwar/Documents/collage/projects/chatbot_v2/data/splitwise/expense_id.json')\n",
    "    except:\n",
    "        data = {}\n",
    "        expense_name_dict = {}\n",
    "        \n",
    "    if expense_name=='None':\n",
    "        print('creating new expense')\n",
    "        key                         = get_time()\n",
    "        expense_name_dict[str(key)] = key\n",
    "        data[key]                   = [[_from, _to, money]]\n",
    "    elif expense_name=='last':\n",
    "        print(f'logging to expense name: {expense_name}')\n",
    "        try:\n",
    "            expense_name = max(expense_name_dict, key=expense_name_dict.get)\n",
    "            key          = expense_name_dict[expense_name]\n",
    "            data[str(key)].append([_from, _to, money])\n",
    "        except:\n",
    "            return 'no last expense'\n",
    "    else:\n",
    "        print(f'logging to expense name: {expense_name}')\n",
    "        \n",
    "        if expense_name in expense_name_dict:\n",
    "            key = expense_name_dict[expense_name]\n",
    "            data[str(key)].append([_from, _to, money])\n",
    "        else:\n",
    "            key                             = get_time()\n",
    "            expense_name_dict[expense_name] = key\n",
    "            data[str(key)]                       = [[_from, _to, money]]\n",
    "\n",
    "    # print(expense_name_dict)\n",
    "    # print(data)\n",
    "    write_json(expense_name_dict, '/home/spanwar/Documents/collage/projects/chatbot_v2/data/splitwise/expense_id.json')\n",
    "    write_json(data, '/home/spanwar/Documents/collage/projects/chatbot_v2/data/splitwise/data.json')\n",
    "    print(f\"Done: add {money} to {_to} paid by {_from}\")"
   ]
  },
  {
   "cell_type": "code",
   "execution_count": 211,
   "id": "4f392014-934a-4c49-bfe6-a1c50f0a9eec",
   "metadata": {},
   "outputs": [
    {
     "name": "stdout",
     "output_type": "stream",
     "text": [
      "logging to expense name: test\n",
      "Done: add 1 euro to B paid by A\n"
     ]
    }
   ],
   "source": [
    "splitwise('A', 'B', '1', expense_name='test')"
   ]
  },
  {
   "cell_type": "code",
   "execution_count": 17,
   "id": "44dbd7fe-e3a3-4794-9c4f-ccc897d07d4c",
   "metadata": {},
   "outputs": [
    {
     "name": "stdout",
     "output_type": "stream",
     "text": [
      "expense name not specified, so calculating last expenses\n",
      "expense name: 2023 food\n",
      "Net Balance of the expenses\n",
      "{'sagar': -3, 'yarkoo': 3}\n"
     ]
    }
   ],
   "source": [
    "calculate_net_amount()"
   ]
  },
  {
   "cell_type": "code",
   "execution_count": 18,
   "id": "3b61c203-c321-4860-9e39-38af1cc8d356",
   "metadata": {},
   "outputs": [],
   "source": [
    "message = '''\n",
    "\n",
    "Here's how to use the functions:\n",
    "\n",
    "splitwise(_from, _to, money, expense_name=None) \n",
    "Use this function to record new transactions. Provide the payer (_from), recipient (_to), and the amount of money exchanged. \n",
    "Optionally, you can specify an expense_name to categorize the transaction if expense_name is last, it will add to expense name.\n",
    "\n",
    "calculate_net_amount(expense_name=None): Use this function to calculate the net amounts owed or owed by each individual. \n",
    "If an expense_name is provided, the function will calculate net amounts based on transactions associated with that expense name. \n",
    "If no expense_name is specified, it will default to the last recorded expense.\n",
    "\n",
    "example 1: I(sagar) have paid rena 20 euro. add this to last expense.\n",
    "ans: {\"splitwise\":{ \"from\": \"sagar\", \"to\":\"rena\", \"money\":\"20\", \"expense_name\": \"last\"}}\n",
    "example 2: ekta give me (liu) 5 euro.\n",
    "ans: {\"splitwise\":{\"from\": \"ekta\", \"to\":\"liu\", \"money\":\"5\", \"expense_name\": \"None\"}}\n",
    "example 3: jack have taken 2 euro from pio. add this to expense name ettp tt\n",
    "ans: {\"splitwise\":{\"from\": \"pio\", \"to\":\"jack\", \"money\":\"2\", \"expense_name\": \"ettp tt\"}}\n",
    "example: calculate the money that have to paid to each other.\n",
    "ans: {\"calculate_net_amount\":{\"expense_name\": \"None\"}}\n",
    "all output in dictionary form.\n",
    "####################\n",
    "\n",
    "'''"
   ]
  },
  {
   "cell_type": "code",
   "execution_count": 19,
   "id": "afea7acc-6b7b-4cb2-ab20-c41c614e593b",
   "metadata": {},
   "outputs": [],
   "source": [
    "def call_gemini(text, message):\n",
    "    message = message + text\n",
    "    response = get_chat_response(message)\n",
    "    txt_output = response_to_text(response)\n",
    "    _dict = json.loads(txt_output.replace('\\\\\"','\\\"'))\n",
    "    print(_dict)\n",
    "    for key in _dict:\n",
    "        if key=='splitwise':\n",
    "            splitwise(_dict[key]['from'], _dict[key]['to'], _dict[key]['money'], _dict[key]['expense_name'])\n",
    "        if key=='calculate_net_amount':\n",
    "            calculate_net_amount(_dict[key]['expense_name'])\n",
    "    # return txt_output"
   ]
  },
  {
   "cell_type": "code",
   "execution_count": 215,
   "id": "5df85a19-3455-4ab0-91a2-b7bae4011fcd",
   "metadata": {},
   "outputs": [
    {
     "name": "stdout",
     "output_type": "stream",
     "text": [
      "{'splitwise': {'from': 'liu', 'to': 'sagar', 'money': '1', 'expense_name': 'year 2023 food'}}\n",
      "logging to expense name: year 2023 food\n",
      "Done: add 1 to sagar paid by liu\n"
     ]
    }
   ],
   "source": [
    "call_gemini(\n",
    "    'liu have give sagar 1 euro last year in summer. add this to expense name year 2023 food.', \n",
    "    message)"
   ]
  },
  {
   "cell_type": "code",
   "execution_count": 225,
   "id": "5c618b87-a43b-4c3c-800b-c74d94877d67",
   "metadata": {},
   "outputs": [
    {
     "name": "stdout",
     "output_type": "stream",
     "text": [
      "{'splitwise': {'from': 'sagar', 'to': 'yarkoo', 'money': '3', 'expense_name': 'year 2023 food'}, 'calculate_net_amount': {'expense_name': 'year 2023 food'}}\n",
      "logging to expense name: year 2023 food\n",
      "Done: add 3 to yarkoo paid by sagar\n",
      "expense name: year 2023 food\n",
      "Net Balance of the expenses\n",
      "{'liu': -3, 'sagar': -12, 'yarkoo': 15}\n"
     ]
    }
   ],
   "source": [
    "call_gemini(\n",
    "    'sagar have paid yarkoo 3 euro. Add this to the expense name year 2023 food. give me the net balance of this expense.', \n",
    "    message)"
   ]
  },
  {
   "cell_type": "code",
   "execution_count": 22,
   "id": "670502a2-dfe9-41ed-a47c-9cdf9772a0e4",
   "metadata": {},
   "outputs": [
    {
     "name": "stdout",
     "output_type": "stream",
     "text": [
      "{'calculate_net_amount': {'expense_name': 'last'}}\n",
      "last expense name: 2023 food\n",
      "Net Balance of the expenses\n",
      "{'sagar': -3, 'yarkoo': 3}\n"
     ]
    }
   ],
   "source": [
    "call_gemini(\n",
    "    'Give me the net balance of my lsat expense.', \n",
    "    message)"
   ]
  },
  {
   "cell_type": "code",
   "execution_count": 22,
   "id": "7b69adfa-9894-449e-bafa-184b19204c46",
   "metadata": {},
   "outputs": [
    {
     "name": "stdout",
     "output_type": "stream",
     "text": [
      "expense name not specified, so calculating last expenses\n",
      "expense name: 2023 food\n",
      "Net Balance of the expenses\n",
      "{'sagar': -3, 'yarkoo': 3}\n"
     ]
    },
    {
     "data": {
      "text/plain": [
       "\"Net Balance of the expenses\\n{'sagar': -3, 'yarkoo': 3}\""
      ]
     },
     "execution_count": 22,
     "metadata": {},
     "output_type": "execute_result"
    }
   ],
   "source": [
    "calculate_net_amount(expense_name='None')"
   ]
  },
  {
   "cell_type": "code",
   "execution_count": null,
   "id": "1602eb69",
   "metadata": {},
   "outputs": [],
   "source": []
  }
 ],
 "metadata": {
  "kernelspec": {
   "display_name": "Python 3",
   "language": "python",
   "name": "python3"
  },
  "language_info": {
   "codemirror_mode": {
    "name": "ipython",
    "version": 3
   },
   "file_extension": ".py",
   "mimetype": "text/x-python",
   "name": "python",
   "nbconvert_exporter": "python",
   "pygments_lexer": "ipython3",
   "version": "3.12.2"
  },
  "toc": {
   "base_numbering": 1,
   "nav_menu": {},
   "number_sections": true,
   "sideBar": true,
   "skip_h1_title": false,
   "title_cell": "Table of Contents",
   "title_sidebar": "Contents",
   "toc_cell": false,
   "toc_position": {},
   "toc_section_display": true,
   "toc_window_display": false
  }
 },
 "nbformat": 4,
 "nbformat_minor": 5
}
