{
 "cells": [
  {
   "cell_type": "markdown",
   "id": "d301613c-732b-4425-b524-d19ba946a290",
   "metadata": {},
   "source": [
    "# Imports "
   ]
  },
  {
   "cell_type": "code",
   "execution_count": 6,
   "id": "f4aba941-d680-4c74-b95e-35a0e2df99b9",
   "metadata": {},
   "outputs": [],
   "source": [
    "import os\n",
    "import json\n",
    "from datetime import datetime\n",
    "import vertexai\n",
    "from vertexai.preview.generative_models import GenerativeModel, ChatSession, Part\n",
    "from vertexai.language_models import TextEmbeddingModel\n",
    "# from gemini import call_gemini"
   ]
  },
  {
   "cell_type": "code",
   "execution_count": 4,
   "id": "126907f4-3cf8-4464-901c-3ebbbe47ab1b",
   "metadata": {},
   "outputs": [],
   "source": [
    "# # Env\n",
    "os.environ['GOOGLE_APPLICATION_CREDENTIALS'] = '/home/spanwar/Documents/collage/projects/chatbot_v2/vertex_key/oval-smile-417517-43cf867c95fd.json'\n",
    "project_id = \"oval-smile-417517\"\n",
    "location   = \"us-central1\"\n",
    "vertexai.init(project=project_id, location=location)\n",
    "\n",
    "model = GenerativeModel(\"gemini-pro\")"
   ]
  },
  {
   "cell_type": "markdown",
   "id": "5f01c3f3-49d0-44e2-813b-a5057124e499",
   "metadata": {},
   "source": [
    "# Gemini"
   ]
  },
  {
   "cell_type": "code",
   "execution_count": 4,
   "id": "2f3a1c6c-dac5-4c1c-920c-be31a7a5a371",
   "metadata": {},
   "outputs": [],
   "source": [
    "def get_chat_response(prompt: str):\n",
    "    response = model.generate_content(prompt)\n",
    "    return response\n",
    "\n",
    "def response_to_text(response):\n",
    "    return response.text\n",
    "        # return str(response.candidates[0].content.parts[0]).split('text: \"')[-1].split('\"\\n')[0]\n",
    "\n",
    "def call_gemini(message):\n",
    "    message = message\n",
    "    response = get_chat_response(message)\n",
    "    txt_output = response_to_text(response)\n",
    "    return txt_output"
   ]
  },
  {
   "cell_type": "markdown",
   "id": "d42ef6c4-5a2e-4735-a9b2-91b1dd817a04",
   "metadata": {},
   "source": [
    "# Addition"
   ]
  },
  {
   "cell_type": "code",
   "execution_count": 2,
   "id": "350cc690-a54e-48ba-a35e-8433891eec16",
   "metadata": {},
   "outputs": [],
   "source": [
    "def shedule(day):\n",
    "    day = day.lower()\n",
    "    day_to_number = {\n",
    "            0: \"monday\",\n",
    "            1: \"tuesday\",\n",
    "            2: \"wednesday\",\n",
    "            3: \"thursday\",\n",
    "            4: \"friday\",\n",
    "            5: \"Saturday\",\n",
    "            6: \"sunday\"\n",
    "            }\n",
    "    if day=='today':\n",
    "        dt = datetime.now()  \n",
    "        day = day_to_number[dt.weekday()]\n",
    "\n",
    "    day_to_time_range = {\n",
    "            \"monday\": \"12:00 - 14:00\",\n",
    "            \"tuesday\": \"14:00 - 16:00\",\n",
    "            \"wednesday\": \"16:00 - 18:00\",\n",
    "            \"thursday\": \"18:00 - 20:00\",\n",
    "            \"friday\": \"20:00 - 22:00\",\n",
    "            \"saturday\": \"10:00 - 12:00\",\n",
    "            \"sunday\": \"10:00 - 12:00\"\n",
    "        }\n",
    "\n",
    "    return f'{day_to_time_range[day]}'"
   ]
  },
  {
   "cell_type": "code",
   "execution_count": 3,
   "id": "3596753d-1597-44d4-b347-4f54b6d39778",
   "metadata": {},
   "outputs": [],
   "source": [
    "prompt = '''function: Shedule\n",
    "It is a function return in python that return the daily shedule. Please help us find the variables for the function from the sentences. We have to pass \n",
    "one variable that is day. Contain the information of what day of the week.\n",
    "\n",
    "These are few example how you have to response and try to find variable form the sntence that are useful for our function.\n",
    "Example 1. Give me today shedule?\n",
    "ans {\"day\": \"today\"}\n",
    "example 2. What is shedule of monday?\n",
    "ans {\"day\": \"monday\"}\n",
    "all output in dictionary form.\n",
    "##########\n",
    "\n",
    "'''"
   ]
  },
  {
   "cell_type": "code",
   "execution_count": 4,
   "id": "71789eb4-c8c4-46c3-9ddd-6ccb6db9b6b5",
   "metadata": {},
   "outputs": [],
   "source": [
    "def response(query, prompt):\n",
    "    prompt = prompt + query\n",
    "    text = call_gemini(prompt)\n",
    "    data = json.loads(text)\n",
    "    return shedule(data['day'])"
   ]
  },
  {
   "cell_type": "code",
   "execution_count": 5,
   "id": "efef3481-f329-4a88-bcb4-21d65ea3b109",
   "metadata": {},
   "outputs": [
    {
     "name": "stdout",
     "output_type": "stream",
     "text": [
      "CPU times: user 78.3 ms, sys: 14.3 ms, total: 92.6 ms\n",
      "Wall time: 2.25 s\n"
     ]
    },
    {
     "data": {
      "text/plain": [
       "'16:00 - 18:00'"
      ]
     },
     "execution_count": 5,
     "metadata": {},
     "output_type": "execute_result"
    }
   ],
   "source": [
    "%%time\n",
    "response('what is shedule of today?', prompt)"
   ]
  },
  {
   "cell_type": "code",
   "execution_count": null,
   "id": "fe24e7f8-0177-4074-bde2-c3d0718587fa",
   "metadata": {},
   "outputs": [],
   "source": []
  }
 ],
 "metadata": {
  "kernelspec": {
   "display_name": "gemini_env_v2",
   "language": "python",
   "name": "gemini_env_v2"
  },
  "language_info": {
   "codemirror_mode": {
    "name": "ipython",
    "version": 3
   },
   "file_extension": ".py",
   "mimetype": "text/x-python",
   "name": "python",
   "nbconvert_exporter": "python",
   "pygments_lexer": "ipython3",
   "version": "3.12.2"
  }
 },
 "nbformat": 4,
 "nbformat_minor": 5
}
